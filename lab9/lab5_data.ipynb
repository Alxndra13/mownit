{
 "cells": [
  {
   "cell_type": "code",
   "execution_count": 2,
   "metadata": {},
   "outputs": [
    {
     "data": {
      "text/plain": [
       "\"stats.csv\""
      ]
     },
     "metadata": {},
     "output_type": "display_data"
    }
   ],
   "source": [
    "using DataFrames, Statistics, CSV\n",
    "\n",
    "function naive_multiplication(A,B)\n",
    "    C = zeros(Float64, size(A,1), size(B,2))\n",
    "    for i=1:size(A,1)\n",
    "        for j=1:size(B,2)\n",
    "            for k=1:size(A,2)\n",
    "                C[i,j] = C[i,j] + A[i,k]*B[k,j]\n",
    "            end\n",
    "        end\n",
    "    end\n",
    "    C\n",
    "end\n",
    "\n",
    "function better_multiplication(A, B)\n",
    "    C = zeros(Float64, size(A,1), size(B,2))\n",
    "    for j=1:size(B,2)\n",
    "        for k=1:size(A,2)\n",
    "            for i=1:size(A,1)\n",
    "                C[i,j] = C[i,j] + A[i,k]*B[k,j]\n",
    "            end\n",
    "        end\n",
    "    end\n",
    "    C\n",
    "end\n",
    "\n",
    "stats = DataFrame(Size=Int[], Type=String[], Time=Float64[])\n",
    "for i in 100:100:1000\n",
    "    matrix1 = rand(0:9,(i,i))\n",
    "    matrix2 = rand(0:9,(i,i))\n",
    "    for j in 1:5\n",
    "        _, time1 = @timed naive_multiplication(matrix1,matrix2)\n",
    "        _, time2 = @timed better_multiplication(matrix1,matrix2)\n",
    "        _, time3 = @timed matrix1*matrix2\n",
    "        push!(stats,(i, \"naive\", time1))\n",
    "        push!(stats,(i, \"better\", time2))\n",
    "        push!(stats,(i, \"blas\", time3))\n",
    "    end\n",
    "end\n",
    "\n",
    "statsCombined = combine(groupby(stats, [:Size, :Type]), :Time => mean, :Time => std)\n",
    "\n",
    "file_path = \"stats.csv\"\n",
    "CSV.write(file_path, statsCombined)\n"
   ]
  }
 ],
 "metadata": {
  "kernelspec": {
   "display_name": "Julia 1.8.5",
   "language": "julia",
   "name": "julia-1.8"
  },
  "language_info": {
   "file_extension": ".jl",
   "mimetype": "application/julia",
   "name": "julia",
   "version": "1.8.5"
  },
  "orig_nbformat": 4
 },
 "nbformat": 4,
 "nbformat_minor": 2
}
