{
 "cells": [
  {
   "cell_type": "code",
   "execution_count": 2,
   "metadata": {},
   "outputs": [],
   "source": [
    "using LinearAlgebra, Plots, DataFrames, Statistics, CSV, Polynomials, TaylorSeries"
   ]
  },
  {
   "attachments": {},
   "cell_type": "markdown",
   "metadata": {},
   "source": [
    "## Zadanie 1\n",
    "**(1pkt)** Uruchomić \n",
    "   - `naive_multiplication(A,B)`, \n",
    "   - `better_multiplication(A,B)` \n",
    "   - mnożenie BLAS w Julii (`A*B`) \n",
    "\n",
    "dla coraz większych macierzy kwadratowych i zmierzyć czasy. Narysować wykres zależności czasu od rozmiaru macierzy wraz z słupkami błędów. Wszystkie trzy metody powinny być na jednym wykresie. Do analizy danych można użyć wybranego narzędzia (Julia, R)"
   ]
  },
  {
   "attachments": {},
   "cell_type": "markdown",
   "metadata": {},
   "source": [
    "#### Metody mnożenia macierzy"
   ]
  },
  {
   "cell_type": "code",
   "execution_count": 3,
   "metadata": {},
   "outputs": [
    {
     "data": {
      "text/plain": [
       "2×2 Matrix{Float64}:\n",
       " 1.0  8.0\n",
       " 0.0  1.0"
      ]
     },
     "metadata": {},
     "output_type": "display_data"
    }
   ],
   "source": [
    "function naive_multiplication(A,B)\n",
    "    C = zeros(Float64, size(A,1), size(B,2))\n",
    "    for i=1:size(A,1)\n",
    "        for j=1:size(B,2)\n",
    "            for k=1:size(A,2)\n",
    "                C[i,j] = C[i,j] + A[i,k]*B[k,j]\n",
    "            end\n",
    "        end\n",
    "    end\n",
    "    C\n",
    "end\n",
    "\n",
    "function better_multiplication(A, B)\n",
    "    C = zeros(Float64, size(A,1), size(B,2))\n",
    "    for j=1:size(B,2)\n",
    "        for k=1:size(A,2)\n",
    "            for i=1:size(A,1)\n",
    "                C[i,j] = C[i,j] + A[i,k]*B[k,j]\n",
    "            end\n",
    "        end\n",
    "    end\n",
    "    C\n",
    "end\n",
    "\n",
    "Asmall = [[1.0 4.0]; [0.0 1.0]]\n",
    "Bsmall = Asmall\n",
    "naive_multiplication(Asmall,Bsmall)\n",
    "better_multiplication(Asmall,Bsmall)\n",
    "Asmall * Bsmall #blass"
   ]
  },
  {
   "attachments": {},
   "cell_type": "markdown",
   "metadata": {},
   "source": [
    "#### Pomiar czasu działania porównywanych metod"
   ]
  },
  {
   "cell_type": "code",
   "execution_count": 4,
   "metadata": {},
   "outputs": [
    {
     "name": "stdout",
     "output_type": "stream",
     "text": [
      "[6 4 6 7 1 9 8 1 4 2 6 6 9 1 0 2 4 4 1 8 6 4 5 7 6 2 3 4 5 2 6 3 3 1 7 3 2 8 3 6 0 2 9 4 9 9 0 0 0 3 0 2 9 8 9 9 8 1 6 5 3 4 4 1 0 6 1 3 2 3 3 8 8 3 7 6 3 7 6 0 4 7 2 2 4 1 4 0 1 7 4 4 7 5 3 8 7 1 6 0; 9 4 7 8 8 0 5 4 1 2 1 8 8 4 9 6 3 4 7 8 4 9 8 8 9 3 5 0 9 7 5 9 7 8 3 5 8 4 3 0 4 8 0 9 9 6 5 5 1 8 5 9 1 7 3 0 0 6 8 7 0 6 8 4 8 0 4 0 0 7 8 2 6 0 6 4 9 9 8 1 5 0 9 7 8 7 1 4 4 1 2 1 4 0 1 9 4 5 6 3; 2 9 2 9 2 1 5 5 0 2 9 9 7 3 1 2 8 8 0 2 9 5 9 3 4 2 0 4 4 3 0 2 8 1 9 8 5 1 3 4 7 0 2 3 8 6 2 4 5 4 6 7 8 3 6 3 2 9 1 9 3 0 8 9 1 5 2 0 8 4 6 9 7 5 1 8 1 9 6 8 4 6 9 5 3 1 2 1 4 3 6 3 9 9 9 7 2 2 1 8; 3 6 8 2 4 9 8 9 9 1 7 1 0 9 2 8 1 7 2 1 1 1 2 5 0 2 8 5 0 5 0 0 6 7 2 1 6 7 2 5 8 5 3 6 8 9 4 1 9 5 2 8 1 8 7 1 2 3 8 3 3 9 7 2 2 2 6 4 4 5 8 3 6 1 1 0 0 7 9 9 3 3 5 2 5 8 4 1 3 5 9 1 6 5 3 8 9 5 4 9; 5 0 2 9 5 6 1 9 7 5 6 8 8 8 1 9 2 7 8 3 4 7 4 9 5 8 4 7 0 3 1 4 3 5 8 8 9 3 4 3 4 1 6 2 8 5 9 6 8 0 4 2 2 1 2 0 4 5 2 1 3 3 4 8 4 0 6 6 6 8 6 8 7 4 0 3 8 2 6 0 3 6 3 3 3 4 9 7 7 0 1 6 2 1 7 1 1 0 7 6; 8 0 4 7 2 2 7 9 8 0 3 4 8 4 0 6 2 7 5 7 8 3 7 8 0 3 1 6 3 5 9 0 6 4 2 9 3 9 6 6 2 3 8 9 1 1 2 6 1 5 1 2 4 5 5 8 5 8 3 2 3 6 2 5 4 2 1 9 7 4 6 4 4 2 3 2 1 8 7 2 8 5 4 8 8 7 2 3 9 1 9 4 9 9 2 8 8 6 9 3; 9 5 4 5 6 3 1 8 3 1 7 2 6 7 9 2 8 6 5 0 3 2 7 4 2 3 2 2 2 1 8 5 3 8 8 9 4 4 8 3 9 3 6 1 4 9 8 0 4 2 9 7 5 9 4 3 4 3 1 2 0 5 1 3 3 3 3 2 8 2 0 5 4 8 4 6 0 7 0 8 3 3 4 9 5 7 6 5 8 4 3 5 1 5 7 6 6 9 9 3; 1 6 6 6 9 8 5 8 0 8 6 1 9 8 2 0 7 5 9 8 6 8 8 7 4 0 7 8 4 8 3 6 1 5 8 0 6 7 2 2 5 4 6 3 6 3 3 1 5 3 5 0 8 9 8 3 8 8 0 3 5 8 4 0 5 7 6 2 9 9 9 5 8 8 3 8 1 6 5 2 9 8 5 8 0 3 5 7 4 0 8 5 4 7 7 4 1 3 1 2; 1 9 1 5 9 0 5 4 8 2 6 8 0 7 0 7 3 8 8 6 1 5 7 1 9 3 2 5 5 2 0 0 9 6 2 5 1 2 8 2 4 7 9 3 8 9 5 1 7 2 2 3 0 6 0 1 4 7 0 7 1 2 9 2 7 5 3 4 3 8 2 3 2 0 1 9 0 9 0 5 1 7 6 9 3 7 0 9 1 3 0 2 3 2 3 3 4 5 6 5; 1 6 9 7 1 7 1 9 2 8 2 1 2 0 5 2 0 7 5 3 6 0 4 0 6 1 1 5 5 6 5 6 0 2 5 6 7 2 2 7 1 2 4 5 9 2 0 6 3 9 3 2 1 9 5 8 4 4 7 9 9 8 5 2 8 8 6 8 2 0 0 4 8 2 5 2 4 9 5 5 1 4 3 5 4 2 1 4 3 9 0 2 5 4 1 0 4 1 1 2; 2 1 4 4 4 4 6 0 4 0 9 6 1 0 3 7 7 1 4 7 7 6 3 8 7 4 4 0 7 6 3 8 6 3 3 9 8 0 0 0 5 0 8 0 5 3 7 8 3 7 7 6 7 8 5 5 7 7 1 1 0 8 1 9 0 9 7 7 2 9 1 3 6 4 7 6 1 7 3 5 3 6 6 1 1 5 6 3 1 7 3 4 9 7 7 2 5 1 2 3; 1 5 5 4 2 7 3 1 0 1 7 2 4 9 7 7 6 3 4 8 2 0 9 2 9 1 3 6 3 3 3 0 3 6 9 7 6 2 9 5 2 3 7 3 8 1 2 4 6 1 0 2 8 0 9 5 0 2 9 1 4 1 0 7 1 1 8 6 0 6 7 5 5 5 5 3 6 2 4 4 6 2 6 8 9 2 6 3 4 9 2 5 5 0 1 9 3 4 7 0; 2 1 4 2 8 3 9 3 7 9 1 6 4 6 6 8 3 4 9 7 8 9 3 6 6 9 1 8 7 7 0 8 0 6 6 9 3 5 9 4 2 7 0 4 2 3 1 8 2 0 3 5 6 2 1 5 1 3 0 6 2 9 1 0 7 4 8 9 3 2 8 2 9 7 6 0 7 9 2 5 0 0 8 1 5 9 7 5 4 1 4 0 7 2 8 0 9 6 4 5; 3 8 3 2 9 0 1 1 8 5 2 8 4 6 3 3 0 5 0 6 2 7 2 2 6 1 2 9 3 7 0 7 7 0 5 1 8 0 5 0 1 7 2 7 5 0 7 3 9 7 1 2 0 7 6 8 3 0 5 3 0 5 8 3 5 2 7 2 7 9 5 8 2 5 2 8 0 1 5 4 3 8 0 6 1 3 3 8 4 6 3 9 8 9 6 5 0 0 6 6; 2 9 7 0 2 9 0 8 2 8 4 0 2 4 0 0 7 5 2 5 4 8 1 2 7 1 4 4 0 0 3 1 6 0 2 0 0 8 4 2 6 6 6 8 9 9 2 1 7 2 8 2 4 8 1 7 3 4 9 9 2 5 6 7 2 7 7 9 7 4 6 9 2 0 7 8 3 7 1 2 1 1 6 4 0 0 1 6 2 8 3 5 1 9 0 8 5 2 2 1; 4 8 3 1 5 1 0 7 9 7 5 8 8 7 0 1 9 1 2 8 7 5 8 6 9 5 9 0 6 7 6 7 0 3 4 6 0 1 0 9 4 8 6 3 9 6 2 6 7 1 1 8 5 3 3 6 4 9 1 2 9 8 2 4 1 1 2 6 4 6 5 7 7 2 4 1 2 8 1 7 5 6 4 1 9 3 3 8 7 6 0 5 2 7 0 3 1 7 4 9; 8 7 9 8 6 1 4 9 5 0 8 2 4 0 0 9 5 3 1 6 3 6 6 5 1 4 6 2 3 5 4 4 4 3 5 5 8 6 2 6 8 1 6 5 1 7 2 1 9 7 3 2 2 7 6 9 0 8 2 6 3 6 6 4 8 4 2 0 9 2 3 6 5 4 4 9 0 7 4 1 4 5 9 9 2 6 5 7 8 5 2 3 4 3 8 6 8 6 3 5; 3 8 9 2 6 1 9 8 7 1 9 0 2 2 0 1 6 3 3 6 4 0 4 1 5 7 1 7 7 3 1 4 2 1 3 1 7 5 8 8 1 7 8 6 6 5 7 0 3 3 7 3 6 3 2 2 8 6 0 6 9 4 6 3 7 4 9 8 9 3 6 3 2 1 3 3 6 8 4 1 6 3 9 6 3 8 9 0 7 7 3 7 2 6 3 1 7 9 3 7; 1 3 3 7 8 6 1 5 2 4 9 9 0 7 8 6 6 7 0 8 8 7 3 5 4 1 5 7 9 8 2 4 0 5 3 9 1 5 9 0 8 9 7 3 6 5 0 7 9 5 4 3 5 4 8 0 6 3 7 1 9 6 4 8 8 2 1 3 6 5 8 8 6 6 0 0 9 1 6 4 4 3 5 7 3 4 6 6 5 0 1 2 9 9 7 1 0 5 2 6; 8 2 1 3 1 7 5 7 1 1 8 5 1 7 9 0 9 6 7 5 0 8 8 2 7 0 4 1 2 7 7 5 0 1 4 8 4 6 4 7 1 4 9 2 2 2 6 0 9 3 8 7 0 6 9 9 8 2 3 9 8 0 2 1 4 2 1 6 1 9 8 6 1 8 2 4 2 5 1 9 9 3 6 8 1 3 6 6 2 0 0 0 9 0 2 0 7 4 1 4; 9 2 7 5 1 1 3 5 4 0 7 6 5 2 3 6 1 1 5 3 0 7 8 0 9 0 1 2 3 6 8 6 7 1 4 0 6 8 7 2 8 0 9 2 1 1 6 9 6 9 5 2 5 8 2 1 7 4 2 4 5 5 6 7 1 5 8 8 9 1 0 2 0 6 3 9 4 5 4 7 4 0 0 1 4 1 9 9 4 3 3 9 9 3 2 9 5 2 5 3; 1 2 1 6 7 7 8 4 8 6 7 6 4 3 5 2 0 7 1 5 0 3 1 8 3 4 4 6 3 3 5 2 6 1 3 8 5 4 9 4 2 1 8 6 0 4 0 4 6 1 5 9 9 4 8 9 4 5 2 8 8 2 7 4 9 4 6 3 0 8 6 0 2 8 0 4 7 4 0 8 5 2 7 3 7 2 6 5 8 1 2 2 5 4 1 7 5 4 4 8; 0 1 9 5 4 5 3 1 7 0 5 0 2 2 7 2 3 3 4 6 0 1 9 2 6 8 6 6 6 0 8 7 2 9 4 6 5 6 3 8 9 8 9 4 3 4 4 1 2 1 0 7 8 2 9 7 2 6 1 0 5 3 8 3 4 3 6 9 4 6 5 2 7 1 4 1 9 3 2 9 3 2 7 9 6 8 1 7 3 7 9 4 8 7 9 7 3 5 7 3; 3 6 1 4 0 1 6 1 0 1 6 4 5 1 8 1 8 6 6 1 2 3 6 9 1 7 2 8 7 8 2 6 7 1 8 7 2 9 2 1 8 6 5 1 3 6 2 8 9 6 0 6 2 3 5 6 7 9 3 2 2 6 7 9 7 6 4 2 2 7 7 3 8 8 0 8 0 5 7 5 4 6 9 5 7 1 8 5 7 8 0 2 1 5 0 2 6 0 2 1; 1 8 6 6 4 9 7 5 0 6 1 2 7 9 0 9 8 5 4 6 6 6 4 3 8 6 5 6 7 2 7 5 0 7 7 9 1 8 6 8 7 2 3 3 7 3 1 0 7 4 2 3 7 5 8 7 1 0 0 2 8 0 6 2 4 2 6 2 6 9 3 8 0 7 6 5 1 4 2 2 3 1 8 6 0 7 6 2 1 7 4 9 2 8 1 7 8 4 6 2; 2 5 9 6 6 1 8 9 4 7 7 6 2 2 7 5 1 1 8 5 1 2 5 5 6 8 8 5 3 2 5 0 9 8 5 5 9 1 7 6 3 5 8 7 6 8 6 4 0 5 0 9 5 6 1 2 3 2 0 0 6 3 8 6 9 8 6 9 5 9 5 8 0 1 6 0 0 4 0 6 9 1 4 3 6 9 0 5 6 2 1 6 1 8 8 8 9 4 5 1; 1 9 1 5 4 2 5 2 7 9 1 5 8 7 7 3 8 0 4 6 7 3 5 7 8 6 1 6 2 2 7 3 6 2 6 0 4 3 8 7 0 1 8 2 6 3 9 2 0 1 8 2 2 8 4 8 6 1 6 5 6 8 3 7 7 0 1 9 4 6 3 9 1 4 5 3 6 2 5 6 0 6 7 4 9 6 5 0 3 7 1 0 8 9 6 7 6 1 5 7; 1 3 7 3 1 3 7 1 1 9 8 9 6 8 1 4 0 0 5 5 1 3 6 3 6 1 7 4 7 5 5 2 2 5 8 0 4 8 6 8 7 9 3 3 3 6 8 5 2 5 0 4 4 9 5 0 6 2 9 5 4 7 2 2 2 0 6 2 4 4 4 8 5 6 8 6 0 8 1 1 1 9 6 9 3 6 2 6 9 1 8 1 4 6 7 8 0 9 9 5; 0 0 2 2 4 1 6 9 3 2 8 3 9 0 1 1 0 6 1 5 9 9 9 6 7 3 0 8 0 0 5 9 9 7 2 2 0 9 1 5 2 7 1 5 7 0 5 9 0 2 8 8 5 5 9 9 7 5 7 4 9 2 5 6 1 1 3 9 5 7 2 5 0 5 8 7 2 6 1 7 6 7 2 9 6 3 6 3 2 1 1 1 5 9 9 5 5 8 4 1; 3 9 4 3 9 3 5 1 0 8 4 5 3 9 9 0 1 1 6 5 7 4 1 4 6 8 8 8 6 6 8 1 9 4 8 0 7 7 5 9 0 8 7 7 1 8 9 9 6 5 4 7 4 8 7 7 3 8 0 9 4 6 3 3 1 3 2 2 0 1 1 8 1 7 2 5 1 8 9 0 3 3 3 0 9 6 6 7 7 1 1 9 9 6 9 1 8 1 2 6; 0 9 2 4 4 5 2 1 4 7 0 2 6 9 9 3 8 1 8 9 6 9 5 4 6 8 5 2 0 3 2 4 1 9 5 4 2 6 9 7 3 9 4 5 1 7 1 4 5 8 6 5 4 2 1 6 0 5 8 7 5 1 6 0 1 2 7 8 9 0 4 1 7 8 7 2 7 6 6 0 8 6 0 5 0 8 4 6 8 1 3 0 9 0 3 5 5 0 4 2; 3 5 4 5 0 4 4 5 7 2 8 2 8 5 2 9 8 9 7 4 2 9 1 1 5 5 3 1 8 7 2 6 7 9 3 2 5 7 1 5 7 2 2 2 3 2 4 1 7 2 5 6 9 4 8 1 5 8 5 2 5 5 6 7 4 1 7 9 7 3 0 7 1 3 0 4 6 8 5 0 9 0 2 8 9 6 9 7 8 7 8 4 5 4 2 7 0 4 4 9; 0 5 6 5 9 2 3 1 5 3 0 2 6 1 3 4 9 4 5 6 5 1 5 2 9 1 0 9 6 5 6 8 3 7 1 1 4 7 0 3 0 8 0 2 2 8 1 0 0 4 6 7 4 0 1 7 3 2 9 9 0 4 6 0 3 7 2 1 0 8 8 9 9 4 3 2 6 6 3 0 2 3 2 0 1 9 2 7 1 6 8 9 4 5 6 8 2 4 3 2; 2 2 0 6 4 7 7 0 4 4 0 7 8 4 7 0 3 9 7 0 7 7 8 6 0 6 2 6 5 0 7 7 4 8 7 6 3 6 0 0 6 0 2 8 4 9 7 0 4 0 5 3 4 0 2 5 9 2 2 4 9 0 7 9 6 7 2 8 5 6 8 3 9 8 3 8 3 8 1 0 5 5 4 3 3 7 4 8 8 9 0 6 2 9 8 5 9 1 3 0; 8 0 1 9 3 5 8 2 4 4 3 5 9 0 5 2 2 2 6 2 8 9 0 6 1 4 3 5 0 2 4 6 9 3 8 5 9 4 3 9 8 0 6 0 0 2 6 3 2 7 3 2 4 3 0 9 3 3 9 3 5 8 4 0 4 8 7 6 9 7 9 7 3 9 1 1 1 8 9 2 9 3 1 1 4 3 0 6 2 1 6 8 5 0 0 9 0 8 2 0; 1 2 4 7 0 1 5 7 0 6 2 6 6 7 6 3 4 8 3 5 4 0 3 5 0 8 7 2 9 0 6 4 2 5 0 3 4 7 7 5 3 7 8 6 0 2 9 4 3 4 0 8 2 1 5 0 8 9 4 5 8 3 0 3 8 8 9 8 6 6 9 3 1 7 8 7 7 7 5 5 7 4 7 5 1 1 6 1 3 5 0 6 5 4 1 7 6 8 8 7; 2 3 2 3 0 7 6 9 5 3 5 0 0 9 6 5 8 2 8 4 1 1 1 9 7 7 5 7 8 7 8 2 8 0 3 2 2 2 6 3 5 9 3 7 6 6 2 3 2 0 5 8 5 1 5 2 3 6 8 0 5 9 4 6 8 7 3 1 5 2 4 4 7 4 8 9 7 7 5 8 6 0 5 0 6 0 4 3 9 0 4 4 1 3 6 0 6 5 3 7; 7 1 0 0 9 4 6 9 5 1 8 2 5 3 7 8 7 2 2 3 3 5 2 7 5 9 1 4 5 3 1 4 0 7 0 8 5 5 3 6 7 6 0 6 4 6 5 8 7 0 0 6 7 0 5 1 8 4 7 4 8 1 6 7 3 4 6 5 1 5 0 2 4 7 1 8 8 4 1 5 0 0 7 9 9 5 1 8 7 1 7 0 4 6 6 1 8 0 9 2; 2 1 0 8 0 3 7 8 0 5 7 6 2 5 7 7 8 3 7 0 7 8 8 2 3 5 1 7 7 8 3 7 0 2 5 0 3 5 3 3 2 6 9 7 1 6 5 0 1 5 1 8 4 6 2 1 8 4 5 2 8 1 2 5 8 7 0 6 6 0 1 0 6 1 8 7 5 5 3 0 8 6 5 0 3 3 7 7 7 4 0 3 0 6 2 5 1 8 0 5; 4 3 1 4 8 0 8 1 7 5 6 0 7 4 5 4 0 3 6 7 2 4 7 1 9 9 0 5 1 1 9 6 2 4 9 9 3 3 7 1 5 2 4 9 1 1 6 0 0 4 0 5 5 6 8 3 3 0 4 0 6 3 0 0 4 9 4 9 9 8 8 0 9 9 7 3 4 1 6 1 1 8 7 0 8 3 3 5 3 6 1 0 9 3 4 4 8 7 3 0; 9 0 9 9 5 3 8 2 0 8 5 7 8 9 5 4 8 4 7 6 5 4 4 6 5 7 4 1 7 6 7 5 7 3 1 9 2 9 0 2 0 9 9 6 5 3 8 9 4 3 1 5 8 6 7 4 3 7 0 4 0 6 8 0 6 2 1 4 4 9 6 0 6 6 1 7 1 3 6 6 2 1 2 9 5 2 8 6 2 6 9 6 2 4 1 2 8 9 0 2; 0 8 3 2 2 0 8 2 9 5 5 9 8 8 6 1 4 5 2 2 9 1 7 5 9 1 6 3 9 9 0 3 2 1 9 8 8 1 3 5 7 7 8 8 6 6 9 3 1 8 2 5 8 4 3 7 8 2 8 9 0 7 4 3 7 3 2 3 5 5 8 0 4 9 3 5 0 1 5 3 0 2 2 8 3 0 1 0 9 8 9 9 8 1 8 8 8 6 0 9; 3 2 3 1 9 2 4 1 7 2 6 9 9 0 4 4 7 5 6 7 8 6 8 9 4 3 3 4 0 4 2 8 5 4 0 3 5 7 0 7 9 5 6 6 3 9 1 0 0 6 9 5 6 1 6 2 1 8 3 1 3 9 9 7 2 7 8 2 2 8 3 4 2 1 9 0 3 3 7 7 1 9 4 2 6 8 6 1 2 3 6 6 4 1 5 1 6 6 5 7; 4 0 2 5 9 2 7 7 7 2 3 7 9 7 2 6 1 2 5 0 2 8 8 6 2 6 5 8 4 7 0 4 4 9 5 3 7 1 4 0 9 1 8 1 8 7 2 8 1 5 4 1 4 1 6 3 7 0 4 2 2 2 9 3 5 6 7 9 6 5 4 7 9 9 1 1 1 3 0 6 9 6 1 2 8 3 5 4 2 2 2 5 3 0 7 1 5 7 6 8; 9 8 3 5 9 1 0 3 5 8 0 6 3 9 7 3 6 7 3 0 6 3 5 1 1 3 9 3 0 7 5 7 1 3 5 4 1 6 1 3 8 9 5 1 4 6 8 7 1 4 3 2 8 3 1 4 3 9 6 0 1 6 6 8 2 6 1 3 0 8 2 5 6 0 6 8 6 2 5 8 8 9 4 5 2 6 9 4 9 2 4 9 2 6 6 1 5 4 3 7; 7 7 8 4 6 5 9 2 6 8 7 2 2 2 3 8 0 8 1 3 4 3 3 9 0 1 3 4 7 2 4 0 8 1 9 4 2 6 2 1 4 1 0 2 1 5 6 9 7 6 8 2 2 1 1 7 6 8 0 4 6 2 2 3 8 6 1 3 2 8 9 5 9 1 6 8 6 3 6 2 5 2 2 8 7 7 7 2 5 4 1 7 4 4 7 6 9 5 8 8; 5 3 6 7 0 8 0 9 8 7 6 5 0 2 9 4 5 0 3 0 3 2 9 4 7 1 5 7 4 4 6 8 3 1 3 7 7 0 9 5 8 2 7 2 7 5 2 5 6 5 1 5 3 2 1 8 0 5 5 0 8 3 6 1 9 4 9 1 2 4 3 8 4 3 4 8 7 2 7 5 6 2 6 6 6 3 2 2 9 7 3 3 6 0 7 1 6 7 2 9; 3 2 6 3 0 9 0 7 2 1 4 8 5 1 5 1 2 1 0 9 5 7 6 7 6 3 3 9 9 6 2 4 2 5 5 0 3 4 2 6 9 9 3 7 4 7 6 4 3 1 7 2 5 0 6 3 9 8 4 0 8 7 6 2 6 8 3 9 8 0 8 5 1 7 4 6 9 1 1 7 8 7 1 0 0 1 9 8 1 5 4 3 3 2 0 5 0 3 6 1; 1 7 0 1 0 6 5 4 0 3 7 9 8 5 6 9 7 0 4 5 8 3 0 4 8 4 9 6 5 1 7 6 3 0 2 1 3 3 6 3 5 2 1 2 1 6 5 6 3 9 2 3 8 1 3 4 6 6 0 4 3 4 2 0 7 5 0 1 3 7 3 1 7 7 7 7 7 0 5 6 4 2 6 5 0 7 1 7 7 3 3 4 6 2 3 8 9 3 1 2; 1 7 4 5 5 1 9 2 5 5 0 4 7 5 7 7 9 8 4 9 9 1 7 0 8 5 2 5 0 5 2 7 5 6 4 1 1 2 9 8 0 4 1 9 7 9 9 0 9 2 0 8 6 2 6 1 3 0 2 0 0 5 8 1 1 1 9 6 4 7 6 3 5 5 5 0 7 4 6 3 0 4 7 9 7 7 3 4 3 1 9 6 6 0 7 0 9 2 4 0; 5 5 4 8 3 6 5 4 4 3 0 4 2 8 0 0 5 1 1 0 4 5 5 0 2 9 4 4 3 8 8 3 0 5 7 6 1 4 2 5 0 5 7 7 8 9 4 8 9 1 6 0 6 3 8 1 1 5 4 4 1 9 6 6 6 3 9 5 8 9 4 2 1 6 4 4 9 0 4 1 5 4 2 7 9 4 6 5 5 0 9 1 8 6 4"
     ]
    },
    {
     "name": "stdout",
     "output_type": "stream",
     "text": [
      " 7 9 8 0 5; 0 5 3 2 1 3 1 3 3 9 9 1 5 6 9 8 8 5 5 2 0 5 2 9 7 9 1 6 0 4 7 3 5 3 9 3 7 2 1 0 9 9 2 7 8 5 3 6 7 9 7 3 6 3 5 7 8 2 5 3 2 8 1 1 7 6 5 3 7 5 4 4 8 6 4 6 6 5 2 0 5 5 6 4 7 6 2 3 3 8 4 3 7 2 6 5 5 7 6 7; 7 3 8 6 4 4 8 9 9 9 6 8 6 1 9 3 9 3 2 7 0 0 5 2 8 2 1 6 7 2 0 2 1 6 2 6 1 5 8 3 7 2 6 1 7 8 6 7 4 0 0 4 2 8 5 9 3 6 8 9 9 5 0 3 5 4 8 2 9 8 5 7 9 9 4 5 7 2 1 6 4 1 4 9 3 8 7 6 1 4 8 1 6 8 5 4 3 4 7 8; 0 5 3 3 4 2 9 7 8 6 7 6 6 1 9 5 6 0 7 2 3 8 3 8 8 7 7 1 5 9 1 8 5 1 2 8 9 1 8 9 7 1 5 0 8 4 2 0 1 6 9 8 5 3 7 6 8 0 5 1 3 6 7 4 3 1 7 8 5 1 1 2 3 3 2 6 8 6 4 8 8 5 4 7 9 0 0 8 2 6 1 7 1 9 9 6 3 2 5 0; 6 6 3 8 1 4 1 6 9 5 3 4 1 9 3 5 5 7 7 4 1 9 2 0 6 0 0 1 1 6 9 9 9 0 1 3 3 7 1 9 9 4 9 2 4 5 9 8 5 1 7 3 6 7 0 1 4 6 0 7 2 7 5 8 2 1 6 5 8 6 1 2 9 2 3 9 2 4 1 6 1 5 1 4 8 9 2 1 9 2 7 6 3 6 4 6 8 2 1 8; 1 5 3 4 8 9 6 4 8 5 9 9 3 3 9 8 8 0 3 5 7 5 1 1 5 0 6 2 0 7 0 9 0 4 4 8 5 3 8 1 2 8 7 5 3 7 3 5 9 9 2 8 4 0 6 8 6 9 4 4 3 4 9 5 6 2 9 7 9 1 1 6 7 6 7 1 6 1 4 2 6 0 7 2 5 0 5 0 8 3 6 7 6 0 3 5 4 8 3 6; 0 5 9 7 1 1 6 7 1 1 1 1 6 6 1 6 3 4 7 6 0 4 6 4 2 5 7 2 9 8 5 2 4 1 0 0 9 7 5 2 6 3 6 9 7 9 3 4 9 6 0 2 5 1 7 4 0 3 6 1 6 8 2 0 1 8 0 9 5 5 0 8 7 0 9 1 7 4 2 8 3 7 2 1 6 9 2 7 0 6 9 0 6 7 9 6 3 1 6 8; 7 3 2 1 0 3 3 8 2 3 4 3 9 4 1 4 3 5 5 5 1 2 7 8 1 7 7 3 7 0 2 6 2 2 3 1 3 8 1 9 9 6 8 3 2 1 8 5 6 9 3 0 4 4 3 7 7 2 4 6 2 4 8 3 0 5 5 6 3 8 3 2 3 3 8 6 0 8 5 2 9 0 3 3 7 3 5 1 7 3 4 0 0 0 6 2 9 1 5 7; 5 3 7 1 1 7 6 1 1 4 5 1 3 8 6 3 8 4 3 9 7 4 5 8 0 6 6 2 8 8 3 7 1 8 9 0 2 8 1 2 7 5 2 8 2 0 5 7 0 6 4 3 7 4 3 3 7 4 4 2 6 6 2 8 4 3 2 4 4 8 6 4 4 4 0 8 3 9 1 9 2 5 2 2 7 9 8 9 9 9 5 2 5 0 0 2 2 1 8 4; 4 4 0 1 8 1 5 7 1 3 1 3 7 1 8 8 7 9 3 8 8 5 5 6 8 2 8 2 9 9 7 9 4 3 6 7 8 3 7 4 2 8 1 4 4 9 6 2 4 4 8 4 5 6 6 7 1 8 0 7 7 2 1 3 8 1 2 5 6 3 4 6 8 1 3 2 9 5 9 5 3 4 9 3 9 9 9 2 1 3 0 1 7 5 8 4 4 5 5 9; 9 0 3 9 3 9 0 8 1 0 2 8 5 7 1 0 6 5 3 1 5 0 7 7 6 7 9 7 8 4 0 8 6 7 1 1 4 9 9 6 1 7 1 9 4 7 8 1 3 9 5 0 6 6 4 8 4 2 5 3 7 8 1 4 6 4 9 0 6 7 3 8 7 6 2 1 5 9 8 7 3 6 6 8 5 2 7 3 0 6 2 7 4 3 1 9 6 4 1 0; 7 7 1 9 5 2 9 9 1 5 5 5 5 7 2 7 1 8 4 1 4 8 5 5 9 2 2 2 5 1 3 3 3 0 3 0 6 0 5 1 5 6 0 6 2 7 7 6 2 4 5 6 5 5 0 8 3 8 1 8 6 1 0 0 1 4 5 3 0 7 6 3 5 4 8 0 5 2 8 8 3 2 2 3 3 0 4 5 6 3 6 0 0 0 4 3 4 9 9 0; 5 4 0 9 7 2 5 7 2 8 5 6 7 5 7 6 6 1 6 3 2 8 6 3 1 2 1 9 0 2 6 0 4 9 6 2 7 5 1 7 3 7 8 3 3 8 5 8 3 8 7 2 0 8 4 5 5 4 8 1 4 4 9 7 6 4 5 0 1 9 3 2 6 2 3 0 8 4 8 0 0 4 2 1 4 2 1 0 9 2 0 9 1 7 2 6 5 9 2 6; 8 0 1 6 5 6 0 4 4 5 0 5 2 7 3 8 1 2 5 2 4 9 4 5 7 7 6 6 7 3 5 3 0 6 2 5 4 7 8 6 2 4 6 8 3 9 5 7 5 7 1 4 9 4 8 9 1 5 3 5 8 4 4 2 7 0 1 4 2 5 7 8 6 0 0 0 7 5 0 2 1 7 3 9 1 5 6 0 7 9 2 6 9 8 1 9 4 9 5 7; 0 9 1 9 7 3 6 8 7 1 9 1 6 6 1 2 9 3 8 8 0 5 2 1 0 7 3 7 3 6 4 9 9 0 6 5 8 4 2 5 9 2 6 9 0 8 6 9 3 3 4 3 0 1 2 6 4 8 2 5 4 1 6 1 4 6 4 9 4 8 9 2 3 4 4 8 5 6 0 9 1 9 5 3 6 4 6 3 4 8 2 5 9 7 4 4 3 4 9 2; 6 7 9 5 9 9 1 7 5 5 5 2 2 1 0 0 3 2 7 3 5 1 5 3 6 5 3 5 3 4 2 9 5 7 0 6 6 6 2 2 0 9 1 6 1 3 7 3 3 6 4 5 3 4 5 2 9 3 6 7 9 3 1 5 9 9 2 4 6 2 5 5 0 0 9 6 7 0 9 0 0 1 5 1 4 8 4 6 1 8 1 6 0 4 4 3 6 7 8 2; 7 7 7 5 5 6 3 3 8 2 5 5 8 1 7 1 6 4 4 6 0 8 3 7 5 5 7 3 5 2 5 9 8 3 6 6 6 9 4 9 6 1 6 6 8 9 9 9 8 3 3 9 6 7 8 2 1 5 9 4 0 1 6 7 1 9 1 3 0 8 4 3 7 6 0 2 7 4 4 3 2 0 1 1 0 0 1 6 6 7 8 0 2 9 4 2 6 4 0 1; 6 7 5 2 9 7 3 0 7 4 4 4 8 6 9 5 0 1 2 2 6 3 8 5 5 5 0 8 2 3 7 1 2 7 1 5 9 2 7 5 5 2 7 7 8 4 3 3 9 8 5 0 0 3 3 4 6 2 0 3 5 2 5 4 4 7 4 3 5 0 4 7 4 6 1 5 7 4 5 8 9 0 5 2 1 4 5 8 2 0 4 3 4 0 7 7 7 1 5 9; 8 6 5 4 3 6 0 8 5 3 9 9 7 9 8 0 3 4 1 6 2 2 0 5 9 3 5 9 7 1 1 1 0 3 4 1 3 0 6 0 5 0 0 2 9 2 6 6 8 9 6 0 2 6 5 7 1 5 3 6 4 3 4 3 5 9 8 1 9 9 0 1 8 9 3 5 5 3 7 2 5 9 3 4 8 0 0 2 8 5 2 5 0 4 1 2 5 2 0 4; 9 4 3 6 3 3 3 5 0 4 2 8 2 2 5 1 9 2 1 3 2 6 4 4 4 4 8 4 4 1 8 5 3 2 4 5 3 9 8 4 4 2 8 3 6 7 4 5 3 2 2 4 7 1 9 2 9 9 4 6 5 1 9 6 3 1 2 5 5 0 6 7 3 8 1 5 4 5 3 6 7 3 0 1 2 2 7 8 0 5 5 2 3 3 3 2 1 3 6 2; 3 1 8 7 0 1 3 5 0 5 2 0 0 0 2 1 4 9 7 3 7 8 6 0 4 2 8 4 5 4 1 3 0 5 0 9 5 2 1 1 0 1 9 4 0 0 5 2 5 6 7 6 4 9 3 0 3 3 6 6 5 1 0 2 1 4 2 3 2 2 0 8 6 6 1 9 9 1 9 7 3 2 6 9 7 6 6 3 2 0 3 6 1 3 0 8 0 4 6 0; 6 0 0 2 5 7 7 3 1 8 9 8 2 7 2 9 9 3 2 3 7 5 9 2 3 0 3 1 0 3 7 6 7 9 8 9 8 4 6 6 8 5 9 6 5 5 8 1 5 0 6 3 2 7 8 4 1 0 1 3 6 3 1 4 0 8 4 8 5 1 5 3 4 1 4 1 8 6 9 8 7 9 2 1 1 6 2 7 6 0 5 6 2 9 6 6 7 6 7 3; 5 6 4 8 4 6 9 7 0 7 5 2 4 9 9 6 4 1 7 1 6 1 4 6 0 6 4 4 4 1 2 1 9 8 4 1 1 8 7 0 5 4 7 3 9 2 4 4 4 6 9 4 6 1 1 3 6 3 8 5 3 4 3 4 9 0 2 3 6 0 3 0 4 3 3 2 5 2 1 9 4 2 6 5 9 6 1 6 6 8 4 7 2 2 0 7 1 7 5 5; 8 8 0 7 7 8 5 3 7 7 1 3 4 1 4 1 3 8 2 0 5 4 7 1 7 7 6 2 7 7 3 4 2 0 8 0 6 6 9 2 7 0 4 0 4 7 1 2 2 7 5 3 7 5 0 2 2 6 1 4 6 6 9 6 0 5 6 0 0 1 4 8 6 1 9 4 6 3 2 2 5 5 6 6 8 2 4 6 2 1 7 6 7 5 9 9 8 8 6 7; 2 1 7 5 7 3 8 3 4 5 2 7 6 9 4 7 4 0 6 4 1 4 7 4 9 6 0 3 6 1 3 7 6 2 0 7 3 8 8 0 2 9 9 4 6 7 0 9 1 1 8 8 1 7 8 3 9 6 0 8 8 7 4 6 7 7 8 0 8 8 8 2 7 5 5 8 0 5 7 5 3 8 7 4 0 9 3 1 2 8 0 8 4 1 1 9 8 6 3 7; 2 7 3 6 1 3 5 6 1 1 5 3 6 4 8 3 3 5 7 2 4 1 0 1 7 0 5 2 0 1 4 9 1 5 8 4 4 6 4 0 7 9 5 5 3 1 9 5 2 9 1 7 6 4 6 7 0 6 7 9 7 0 4 7 3 0 4 2 8 2 2 3 0 5 5 1 6 7 8 7 2 7 3 9 0 8 2 2 6 9 4 4 5 6 1 1 2 6 6 5; 0 2 0 5 3 8 8 0 7 3 2 9 5 1 2 2 2 6 7 5 4 6 5 2 2 6 2 3 1 7 5 0 5 6 1 9 2 6 8 1 7 3 8 9 1 9 4 5 6 4 6 5 7 6 9 7 7 4 0 0 1 5 1 8 7 5 1 4 2 3 9 2 5 1 8 6 2 7 6 7 2 4 7 6 4 2 8 9 1 2 3 0 8 1 9 6 8 8 0 6; 8 6 1 9 4 4 5 5 5 2 0 8 7 2 7 3 7 9 6 5 7 3 3 9 6 3 6 1 0 9 2 1 7 5 7 3 0 5 1 0 9 9 5 9 1 0 5 2 5 2 8 2 1 8 2 7 6 1 5 8 6 1 0 3 1 8 3 4 8 2 5 5 6 7 8 4 7 7 2 7 1 2 0 6 7 7 4 5 2 1 6 4 6 2 2 0 6 0 6 6; 6 4 0 5 4 3 4 8 7 7 9 0 4 1 3 8 0 3 9 3 4 0 5 4 7 0 6 2 0 8 2 5 3 7 1 4 8 6 2 4 3 1 8 0 7 9 8 4 4 8 8 2 6 4 6 7 5 8 5 4 9 3 7 1 6 0 1 5 0 6 8 1 1 7 8 5 1 1 8 1 7 5 8 1 0 0 2 0 7 2 7 2 1 3 7 5 7 6 1 0; 2 4 6 2 1 3 9 3 0 0 6 3 6 8 0 1 5 7 3 9 7 3 9 6 5 0 7 9 2 0 6 8 7 0 2 9 4 9 3 0 5 2 8 2 9 6 8 7 9 3 0 1 4 7 0 3 1 7 9 5 2 1 1 7 4 1 7 7 3 7 3 7 8 8 3 6 4 3 4 7 3 0 6 2 1 1 7 0 9 3 1 4 8 6 0 1 7 8 8 7; 3 0 1 4 4 4 8 0 6 6 2 3 2 8 5 9 3 5 5 2 8 1 1 9 1 4 1 3 8 2 3 4 6 5 8 3 0 0 6 9 6 9 5 4 6 6 7 2 1 2 4 5 4 6 8 6 9 3 9 6 5 2 8 8 2 0 8 7 7 3 4 8 6 0 3 8 9 8 4 5 1 8 7 9 9 9 0 4 5 5 9 3 7 7 2 3 0 2 1 8; 0 3 4 8 9 6 8 6 5 1 0 7 2 0 1 8 0 0 7 4 0 5 4 3 3 5 2 9 8 2 3 3 1 0 7 4 5 1 6 4 8 2 9 6 8 9 2 4 0 9 2 2 2 4 8 8 7 0 1 1 0 1 2 3 1 2 6 7 3 4 8 2 1 2 2 0 6 4 0 2 5 8 2 3 6 7 5 7 8 3 0 8 1 3 8 0 8 8 6 0; 3 7 6 5 9 7 1 6 2 9 8 6 2 4 0 7 0 2 6 1 9 3 6 3 3 8 6 6 4 9 7 5 0 9 7 2 3 9 9 5 1 4 3 9 4 2 8 7 4 5 4 8 7 8 7 1 9 0 3 1 8 1 0 9 7 6 9 4 3 9 9 5 1 0 2 7 1 5 6 9 1 3 3 4 0 1 7 7 6 0 0 4 0 7 2 4 5 8 6 9; 2 0 9 1 3 2 3 3 5 3 6 7 3 6 5 0 7 9 7 8 0 1 0 3 7 6 0 6 7 1 5 4 9 4 6 7 0 0 9 6 2 8 1 2 2 0 3 6 0 0 4 5 6 7 6 6 3 0 1 9 9 3 1 6 1 7 2 4 6 8 9 2 6 2 0 0 0 9 1 7 8 6 8 7 2 3 2 7 4 1 1 9 0 9 3 2 5 2 5 4; 0 9 7 9 3 6 5 1 8 0 6 7 5 5 7 6 6 1 9 0 8 3 5 1 2 9 0 0 3 0 2 3 6 9 4 7 5 1 1 4 3 2 4 6 6 9 0 4 2 2 0 9 7 1 9 0 6 7 2 9 5 2 7 8 7 7 9 3 7 2 2 6 4 2 1 2 3 6 1 2 9 6 9 7 1 2 4 2 2 4 1 1 5 7 1 4 1 5 7 4; 1 2 3 8 4 7 9 6 7 5 5 6 9 5 3 9 1 2 2 7 7 4 3 6 9 9 5 7 6 9 1 9 9 8 9 9 8 9 5 2 6 1 3 8 0 8 4 3 7 5 0 3 1 0 5 1 3 7 7 0 8 9 6 4 8 5 3 2 4 1 4 3 4 9 7 5 0 0 7 6 2 5 2 8 2 2 4 9 5 7 2 7 5 8 2 9 1 8 3 0; 0 9 1 4 1 2 4 7 0 7 8 3 0 7 9 5 7 7 9 1 2 9 6 3 4 7 6 5 7 9 4 6 7 8 5 3 5 9 1 0 5 1 0 8 5 1 3 1 7 9 3 6 1 0 6 1 5 7 9 2 9 9 9 7 4 1 4 7 8 7 8 3 5 0 9 9 1 6 6 7 4 5 4 5 2 8 1 3 5 0 6 2 3 8 4 6 4 5 3 1; 8 0 7 5 7 2 2 7 0 1 8 5 4 1 0 3 6 2 7 5 4 2 3 3 2 7 4 6 0 9 6 2 1 6 8 4 6 7 3 0 0 1 9 4 1 3 3 5 0 7 7 0 3 1 6 3 6 2 2 0 6 5 3 1 6 7 5 3 8 6 4 2 9 9 3 1 9 2 2 9 9 3 2 4 9 6 5 2 1 4 4 8 0 1 1 5 6 1 5 1; 6 1 3 8 9 8 2 9 0 1 1 7 8 4 4 4 1 1 4 2 8 2 1 8 3 8 4 7 5 4 5 7 5 5 4 8 2 3 0 1 1 7 7 1 2 9 1 9 5 6 2 5 8 0 9 1 1 4 9 9 8 2 7 3 8 6 4 9 0 3 3 6 9 8 4 7 6 0 8 0 3 9 0 1 5 0 2 7 6 8 4 3 3 1 9 6 6 9 2 3; 7 6 1 1 3 7 8 2 2 9 0 6 3 6 4 2 6 5 9 7 2 8 3 9 9 9 8 2 0 1 8 7 9 4 3 3 0 5 7 4 7 3 8 7 1 3 1 9 3 9 6 4 3 9 8 8 3 9 7 1 1 8 8 3 7 1 1 4 2 2 6 1 0 1 7 8 9 4 3 9 1 3 9 4 6 5 3 2 6 5 3 2 0 9 8 3 8 8 0 7; 7 1 3 7 8 4 8 9 1 9 1 6 1 1 4 7 4 9 1 7 5 6 8 3 7 7 4 0 5 3 1 9 0 1 1 1 9 4 4 2 2 2 8 0 1 2 1 2 1 9 3 5 7 7 2 7 9 4 4 0 7 9 0 5 0 9 7 3 7 3 5 1 8 3 9 2 2 7 9 4 5 6 3 7 2 3 8 3 7 0 9 2 9 1 1 3 2 7 7 7; 9 1 5 2 4 0 2 8 7 2 8 9 2 4 0 5 5 6 1 8 8 7 0 6 9 0 8 7 5 3 6 0 9 5 9 4 9 4 7 2 3 5 5 9 7 1 7 5 5 8 9 4 0 6 5 6 6 2 7 1 3 7 7 4 4 5 9 5 2 3 1 2 3 0 8 4 9 5 6 7 1 1 8 0 4 2 1 3 4 6 7 4 8 0 2 0 6 6 7 2; 7 1 6 8 6 7 2 0 4 8 6 7 5 3 5 6 9 2 1 9 4 2 1 8 7 0 2 1 8 5 7 5 6 6 7 1 6 3 2 1 4 4 9 7 3 0 5 7 6 2 2 0 4 7 9 9 1 7 8 4 7 4 8 6 3 6 0 5 6 8 6 8 1 9 6 0 7 8 6 5 5 1 6 6 3 4 4 8 3 2 9 4 5 7 6 7 6 9 9 3; 3 6 0 5 1 4 4 9 7 1 7 7 6 4 7 0 1 3 7 3 7 6 6 7 8 0 0 9 0 9 1 8 5 0 0 6 1 4 7 7 4 9 5 2 9 9 1 1 2 0 2 0 3 4 8 1 7 0 7 2 8 0 1 1 1 3 2 4 4 0 9 1 7 0 4 5 4 7 7 6 6 4 9 9 0 8 2 7 6 8 0 5 3 7 2 7 1 5 0 8; 6 7 2 3 0 8 6 2 1 4 0 7 0 3 1 3 9 8 8 1 2 6 2 9 2 2 0 6 3 2 0 6 5 7 7 0 1 6 3 7 8 9 8 8 4 9 4 0 7 7 5 7 1 4 4 6 1 0 1 4 2 8 0 5 6 3 5 3 9 8 0 0 8 1 9 9 6 2 3 9 9 3 2 3 9 6 0 8 1 9 4 6 9 2 9 3 0 7 6 1; 4 6 3 8 0 6 0 9 3 2 4 1 6 2 6 3 1 6 4 2 7 3 9 3 0 9 9 7 0 0 2 0 7 4 0 6 1 3 4 1 6 7 9 5 8 7 6 7 0 2 8 6 5 0 1 1 0 1 7 2 2 8 5 2 3 3 8 5 2 2 0 5 0 5 4 9 4 3 4 4 2 3 6 8 8 7 0 4 6 8 7 1 2 2 5 6 0 0 2 4; 0 4 2 0 0 5 7 1 1 2 4 0 4 3 6 1 9 6 3 0 7 9 5 9 8 2 5 0 2 2 8 9 6 5 4 7 4 1 1 5 5 8 0 9 3 3 9 4 8 7 1 5 1 0 7 6 4 8 1 2 9 2 2 0 1 7 8 5 4 7 7 0 9 8 3 7 6 4 1 7 3 5 9 0 5 6 9 9 3 5 2 0 6 2 4 6 6 8 2 8; 9 3 9 4 2 6 1 3 3 9 5 8 4 2 1 8 1 7 8 6 6 4 2 4 4 2 0 4 0 5 6 2 8 7 6 8 6 3 2 1 7 6 7 0 3 5 7 3 8 1 3 2 7 6 8 5 4 2 9 6 3 3 3 3 1 5 2 0 8 7 4 8 1 6 0 0 2 6 2 9 4 9 7 8 8 4 8 9 2 5 3 3 1 7 8 3 8 5 8 0; 9 3 7 8 1 6 8 5 8 1 0 9 4 6 1 1 0 7 4 5 0 8 2 0 8 0 2 4 1 3 1 0 9 9 0 5 4 7 2 2 5 7 9 9 7 2 8 3 0 9 8 1 9 5 8 9 5 6 2 6 4 9 7 5 1 9 2 2 2 5 5 8 4 5 7 8 9 4 7 7 3 3 4 8 7 7 0 2 3 8 8 1 2 3 5 1 9 0 3 9; 5 2 4 6 4 7 8 9 2 6 7 7 8 3 4 7 8 5 5 9 0 4 4 7 0 7 8 9 9 8 2 7 7 1 6 5 4 8 8 8 2 2 4 6 3 6 9 6 0 0 0 5 7 3 0 3 6 9 2 8 5 5 1 2 4 3 8 4 1 5 5 6 3 8 1 5 5 6 6 0 2 1 7 1 2 2 3 3 0 6 6 4 6 5 9 6 8 6 8 5]\n"
     ]
    },
    {
     "data": {
      "text/html": [
       "<div><div style = \"float: left;\"><span>0×4 DataFrame</span></div><div style = \"clear: both;\"></div></div><div class = \"data-frame\" style = \"overflow-x: scroll;\"><table class = \"data-frame\" style = \"margin-bottom: 6px;\"><thead><tr class = \"header\"><th class = \"rowNumber\" style = \"font-weight: bold; text-align: right;\">Row</th><th style = \"text-align: left;\">Size</th><th style = \"text-align: left;\">Type</th><th style = \"text-align: left;\">Time_mean</th><th style = \"text-align: left;\">Time_std</th></tr><tr class = \"subheader headerLastRow\"><th class = \"rowNumber\" style = \"font-weight: bold; text-align: right;\"></th><th title = \"Int64\" style = \"text-align: left;\">Int64</th><th title = \"String\" style = \"text-align: left;\">String</th><th title = \"Float64\" style = \"text-align: left;\">Float64</th><th title = \"Float64\" style = \"text-align: left;\">Float64</th></tr></thead><tbody></tbody></table></div>"
      ],
      "text/latex": [
       "\\begin{tabular}{r|cccc}\n",
       "\t& Size & Type & Time\\_mean & Time\\_std\\\\\n",
       "\t\\hline\n",
       "\t& Int64 & String & Float64 & Float64\\\\\n",
       "\t\\hline\n",
       "\\end{tabular}\n"
      ],
      "text/plain": [
       "\u001b[1m0×4 DataFrame\u001b[0m\n",
       "\u001b[1m Row \u001b[0m│\u001b[1m Size  \u001b[0m\u001b[1m Type   \u001b[0m\u001b[1m Time_mean \u001b[0m\u001b[1m Time_std \u001b[0m\n",
       "     │\u001b[90m Int64 \u001b[0m\u001b[90m String \u001b[0m\u001b[90m Float64   \u001b[0m\u001b[90m Float64  \u001b[0m\n",
       "─────┴────────────────────────────────────"
      ]
     },
     "metadata": {},
     "output_type": "display_data"
    }
   ],
   "source": [
    "stats = DataFrame(Size=Int[], Type=String[], Time=Float64[])\n",
    "for i in 100:100:1000\n",
    "    matrix1 = rand(0:9,(i,i))\n",
    "    matrix2 = rand(0:9,(i,i))\n",
    "    for j in 1:5\n",
    "        _, time1 = @timed naive_multiplication(matrix1,matrix2)\n",
    "        _, time2 = @timed better_multiplication(matrix1,matrix2)\n",
    "        _, time3 = @timed matrix1*matrix2\n",
    "        push!(stats,(i, \"naive\", time1))\n",
    "        push!(stats,(i, \"better\", time2))\n",
    "        push!(stats,(i, \"blas\", time3))\n",
    "    end\n",
    "end\n",
    "\n",
    "statsCombined = combine(groupby(stats, [:Size, :Type]), :Time => mean, :Time => std)"
   ]
  },
  {
   "attachments": {},
   "cell_type": "markdown",
   "metadata": {},
   "source": [
    "#### Wykres porównania czasów mnożenia macierzy"
   ]
  },
  {
   "cell_type": "code",
   "execution_count": 5,
   "metadata": {},
   "outputs": [
    {
     "ename": "MethodError",
     "evalue": "MethodError: no method matching union()\nClosest candidates are:\n  union(!Matched::Base.OneTo, !Matched::Base.OneTo) at range.jl:1141\n  union(!Matched::DataStructures.SortedSet, !Matched::Any...) at ~/.julia/packages/DataStructures/59MD0/src/sorted_set.jl:346\n  union(!Matched::DataStructures.Accumulator, !Matched::DataStructures.Accumulator) at ~/.julia/packages/DataStructures/59MD0/src/accumulator.jl:212\n  ...",
     "output_type": "error",
     "traceback": [
      "MethodError: no method matching union()\n",
      "Closest candidates are:\n",
      "  union(!Matched::Base.OneTo, !Matched::Base.OneTo) at range.jl:1141\n",
      "  union(!Matched::DataStructures.SortedSet, !Matched::Any...) at ~/.julia/packages/DataStructures/59MD0/src/sorted_set.jl:346\n",
      "  union(!Matched::DataStructures.Accumulator, !Matched::DataStructures.Accumulator) at ~/.julia/packages/DataStructures/59MD0/src/accumulator.jl:212\n",
      "  ...\n",
      "\n",
      "Stacktrace:\n",
      " [1] macro expansion\n",
      "   @ ~/.julia/packages/RecipesPipeline/XxUHt/src/group.jl:86 [inlined]\n",
      " [2] apply_recipe(::AbstractDict{Symbol, Any}, ::RecipesPipeline.GroupBy, ::Any, ::Any)\n",
      "   @ RecipesPipeline ~/.julia/packages/RecipesBase/z10lo/src/RecipesBase.jl:300\n",
      " [3] _process_userrecipes!(plt::Any, plotattributes::Any, args::Any)\n",
      "   @ RecipesPipeline ~/.julia/packages/RecipesPipeline/XxUHt/src/user_recipe.jl:38\n",
      " [4] recipe_pipeline!(plt::Any, plotattributes::Any, args::Any)\n",
      "   @ RecipesPipeline ~/.julia/packages/RecipesPipeline/XxUHt/src/RecipesPipeline.jl:72\n",
      " [5] _plot!(plt::Plots.Plot, plotattributes::Any, args::Any)\n",
      "   @ Plots ~/.julia/packages/Plots/p3KMq/src/plot.jl:223\n",
      " [6] #plot#186\n",
      "   @ ~/.julia/packages/Plots/p3KMq/src/plot.jl:102 [inlined]\n",
      " [7] scatter(::Any, ::Vararg{Any}; kw::Base.Pairs{Symbol, V, Tuple{Vararg{Symbol, N}}, NamedTuple{names, T}} where {V, N, names, T<:Tuple{Vararg{Any, N}}})\n",
      "   @ Plots ~/.julia/packages/RecipesBase/z10lo/src/RecipesBase.jl:427\n",
      " [8] top-level scope\n",
      "   @ /run/media/sobiesia/Windows/Users/aleks/OneDrive/Pulpit/Studia/SEMESTR 4/MOWNIT/labs/lab5/lab5.ipynb:1"
     ]
    }
   ],
   "source": [
    "scatter(\n",
    "    statsCombined[!,:Size], \n",
    "    statsCombined[!,:Time_mean], \n",
    "    group=statsCombined[!,:Type], \n",
    "    yerr=statsCombined[!,:Time_std],\n",
    "    xlabel=\"Rozmiar macierzy\",\n",
    "    ylabel=\"Czas mnozenia\",\n",
    "    title=\"Porównanie czasów mnożenia macierzy\",\n",
    "    label=[\"Metoda naiwna\" \"Metoda usprawniona\" \"Metoda BLAS\"])"
   ]
  },
  {
   "attachments": {},
   "cell_type": "markdown",
   "metadata": {},
   "source": [
    "## Zadanie 2\n",
    "**(2 pkt)** Napisać w języku C:\n",
    "   - naiwną metodę mnożenia macierzy kwadratowych (wersja 1) \n",
    "   - ulepszoną wersję za pomocą zamiany pętli metodę mnożenia macierzy (wersja 2), pamiętając, że w C macierz przechowywana jest wierszami (row major order tzn A11,A12, ..., A1m, A21, A22,...,A2m, ..Anm), inaczej niż w Julii ! \n",
    "   - skorzystać z  możliwości BLAS poziom 3 dostępnego w GSL  (przykład uzycia https://www.gnu.org/software/gsl/doc/html/blas.html#examples )\n",
    "\n",
    "Należy porównywać działanie tych trzech algorytmow bez włączonej opcji optymalizacji kompilatora. Przedstawić wyniki na jednym wykresie tak jak w p.1. (osobno niż p.1). \n",
    "Do analizy danych można użyć wybranego narzędzia (Julia, R)\n",
    "*(Dla chętnych)* sprawdzić, co się dzieje, jak włączymy optymalizację kompilatora i dodać do wykresu. "
   ]
  },
  {
   "attachments": {},
   "cell_type": "markdown",
   "metadata": {},
   "source": [
    "#### Kod w języku C\n",
    "``` C\n",
    "#include <stdio.h>\n",
    "#include <stdlib.h>\n",
    "#include <time.h>\n",
    "#include <gsl/gsl_blas.h>\n",
    "\n",
    "// naiwna metoda mnożenia macierzy kwadratowych\n",
    "void naive_multiplication(double *A, double *B, double *C, int n)\n",
    "{\n",
    "    for (int i = 0; i < n; i++)\n",
    "    {\n",
    "        for (int j = 0; j < n; j++)\n",
    "        {\n",
    "            C[i * n + j] = 0.0;\n",
    "            for (int k = 0; k < n; k++)\n",
    "            {\n",
    "                C[i * n + j] += A[i * n + k] * B[k * n + j];\n",
    "            }\n",
    "        }\n",
    "    }\n",
    "}\n",
    "\n",
    "// ulepszona metoda mnożenia macierzy kwadratowych\n",
    "void better_multiplication(double *A, double *B, double *C, int n)\n",
    "{\n",
    "    for (int i = 0; i < n; i++)\n",
    "    {\n",
    "        for (int k = 0; k < n; k++)\n",
    "        {\n",
    "            double r = A[i * n + k];\n",
    "            for (int j = 0; j < n; j++)\n",
    "            {\n",
    "                C[i * n + j] += r * B[k * n + j];\n",
    "            }\n",
    "        }\n",
    "    }\n",
    "}\n",
    "\n",
    "// funkcja do pomiaru czasu\n",
    "double get_time()\n",
    "{\n",
    "    return (double)clock() / CLOCKS_PER_SEC;\n",
    "}\n",
    "\n",
    "// główna funkcja\n",
    "int main()\n",
    "{\n",
    "    double *A, *B, *C, *D;\n",
    "    double t1, t2, t3;\n",
    "\n",
    "    printf(\"n,type,time\\n\");\n",
    "    for (int n = 100; n < 1001; n += 100)\n",
    "    {\n",
    "        A = (double *)malloc(n * n * sizeof(double));\n",
    "        B = (double *)malloc(n * n * sizeof(double));\n",
    "        C = (double *)malloc(n * n * sizeof(double));\n",
    "        D = (double *)malloc(n * n * sizeof(double));\n",
    "\n",
    "        for (int j = 0; j < n * n; j++)\n",
    "        {\n",
    "            A[j] = ((double)rand() / RAND_MAX) * 10.0;\n",
    "            B[j] = ((double)rand() / RAND_MAX) * 10.0;\n",
    "            C[j] = 0.0;\n",
    "            D[j] = 0.0;\n",
    "        }\n",
    "\n",
    "        for (int i = 0; i < 5; i++)\n",
    "        {\n",
    "\n",
    "            t1 = get_time();\n",
    "            naive_multiplication(A, B, C, n);\n",
    "            t1 = get_time() - t1;\n",
    "\n",
    "            printf(\"%d,%s,%f\\n\", n, \"naive\", t1);\n",
    "\n",
    "            t2 = get_time();\n",
    "            better_multiplication(A, B, D, n);\n",
    "            t2 = get_time() - t2;\n",
    "\n",
    "            printf(\"%d,%s,%f\\n\", n, \"better\", t2);\n",
    "\n",
    "            gsl_matrix_view a = gsl_matrix_view_array(A, n, n);\n",
    "            gsl_matrix_view b = gsl_matrix_view_array(B, n, n);\n",
    "            gsl_matrix_view d = gsl_matrix_view_array(D, n, n);\n",
    "\n",
    "            t3 = get_time();\n",
    "            gsl_blas_dgemm(CblasNoTrans, CblasNoTrans, 1.0, &a.matrix, &b.matrix, 0.0, &d.matrix);\n",
    "            t3 = get_time() - t3;\n",
    "\n",
    "            printf(\"%d,%s,%f\\n\", n, \"BLAS\", t3);\n",
    "        }\n",
    "\n",
    "        free(A);\n",
    "        free(B);\n",
    "        free(C);\n",
    "        free(D);\n",
    "    }\n",
    "\n",
    "    return 0;\n",
    "}\n",
    "\n",
    "```"
   ]
  },
  {
   "attachments": {},
   "cell_type": "markdown",
   "metadata": {},
   "source": [
    "#### Analiza wyników"
   ]
  },
  {
   "cell_type": "code",
   "execution_count": 6,
   "metadata": {},
   "outputs": [],
   "source": [
    "results = CSV.read(\"results.txt\", delim=\",\", DataFrame)\n",
    "\n",
    "resultsCombined = combine(groupby(results, [:n, :type]), :time => mean, :time => std)\n",
    "rename!(resultsCombined, \n",
    "        [\"Size\", \"Type\", \"Time_mean\", \"Time_std\"])"
   ]
  },
  {
   "attachments": {},
   "cell_type": "markdown",
   "metadata": {},
   "source": [
    "#### Wykres porównania mnożenia macierzy w języku C"
   ]
  },
  {
   "cell_type": "code",
   "execution_count": null,
   "metadata": {},
   "outputs": [],
   "source": [
    "scatter(\n",
    "    resultsCombined[!,:Size], \n",
    "    resultsCombined[!,:Time_mean], \n",
    "    group=resultsCombined[!,:Type], \n",
    "    yerr=resultsCombined[!,:Time_std],\n",
    "    xlabel=\"Rozmiar macierzy\",\n",
    "    ylabel=\"Czas mnozenia\",\n",
    "    title=\"Porównanie czasów mnożenia macierzy w C\",\n",
    "    label=[\"Metoda naiwna\" \"Metoda usprawniona\" \"Metoda BLAS\"])\n"
   ]
  },
  {
   "attachments": {},
   "cell_type": "markdown",
   "metadata": {},
   "source": [
    "## Zadanie 3\n",
    "**(1 pkt)** Użyć aproksymacji odpowiednimi wielomianami, które najlepiej pasują do zależności czasowych każdego z algorytmów. Stopień wielomianu powinien zgadzać się z teoretyczną złożonoscią. Dodać wykresy uzyskanych wielomianów do wcześniejszych wykresów. Do analizy danych można użyć wybranego narzędzia (Julia, R)"
   ]
  },
  {
   "cell_type": "code",
   "execution_count": null,
   "metadata": {},
   "outputs": [],
   "source": [
    "fit1 = fit(statsCombined[statsCombined.Type .== \"naive\", :Size], statsCombined[statsCombined.Type .== \"naive\", :Time_mean], 3)\n",
    "fit2 = fit(statsCombined[statsCombined.Type .== \"better\", :Size], statsCombined[statsCombined.Type .== \"better\", :Time_mean], 3)\n",
    "fit3 = fit(statsCombined[statsCombined.Type .== \"blas\", :Size], statsCombined[statsCombined.Type .== \"blas\", :Time_mean], 2)\n",
    "\n",
    "xs = 0:1:1001\n",
    "scatter(\n",
    "    statsCombined[!,:Size], \n",
    "    statsCombined[!,:Time_mean], \n",
    "    group=statsCombined[!,:Type], \n",
    "    yerr=statsCombined[!,:Time_std],\n",
    "    xlabel=\"Rozmiar macierzy\",\n",
    "    ylabel=\"Czas mnozenia\",\n",
    "    title=\"Czasy mnożenia macierzy i wielomiany aproksymacji\",\n",
    "    label=[\"Metoda naiwna\" \"Metoda usprawniona\" \"Metoda BLAS\"]\n",
    "    )\n",
    "plot!(fit1, extrema(xs)..., label=\"Wielomian - naiwna\")\n",
    "plot!(fit2, extrema(xs)..., label=\"Wielomian - usprawniona\")\n",
    "plot!(fit3, extrema(xs)..., label=\"Wielomian - BLAS\")"
   ]
  },
  {
   "attachments": {},
   "cell_type": "markdown",
   "metadata": {},
   "source": [
    "## Zadanie 4\n",
    "**(1 pkt)** Pokazać zniwelowanie efektu Rungego  poprzez użycie wsparcia dla wielomianów Czebyszewa w pakiecie Polynomials. Wymagany wykres. "
   ]
  },
  {
   "cell_type": "code",
   "execution_count": null,
   "metadata": {},
   "outputs": [],
   "source": [
    "function runge(x)\n",
    "    return 1.0 / (1.0 + 25.0 * x^2)\n",
    "end\n",
    "\n",
    "xs = range(-1, 1, length=11) #węzły aproksymacji\n",
    "ys = runge.(xs)\n",
    "\n",
    "x = range(-1, 1, length=1001)\n",
    "y_runge = runge.(x)\n",
    "\n",
    "\n",
    "poly_approx = fit(xs, ys, 11)\n",
    "y_poly_approx = poly_approx.(x)\n",
    "\n",
    "base = [0,0,0,0,0,0,0,0,0,0,0,1]\n",
    "chebyshev = ChebyshevT(base)\n",
    "x_cheb = Polynomials.roots(chebyshev)\n",
    "y_cheb = runge.(x_cheb)\n",
    "\n",
    "cheb_approx = fit(x_cheb, y_cheb, 11)\n",
    "y_cheb_approx = cheb_approx.(x)\n",
    "\n",
    "scatter(\n",
    "    [xs, x_cheb],\n",
    "    [ys, y_cheb],\n",
    "    label=[\"Węzły aproksymacji\" \"Węzły aproksymacji Czebyszewa\"]\n",
    "    )\n",
    "\n",
    "plot!(\n",
    "    x,\n",
    "    [y_runge, y_poly_approx, y_cheb_approx],\n",
    "    label = [\"Funkcja Rungego\" \"Aproksymacja wielomianowa\" \"Aproksymacja Czebyszewa\"]\n",
    ")"
   ]
  },
  {
   "attachments": {},
   "cell_type": "markdown",
   "metadata": {},
   "source": [
    "## Zadanie 5\n",
    "**(1 pkt)** Przybliżenie Pade jest często lepsze niż rozwinięcie w szereg Taylora przy aproksymowaniu funkcji, które posiadają osobliwości. Korzystając ze wsparcia dla aproksymacji Pade w pakiecie Polynomials pokazać dowolny przykład (wraz z wykresem), gdzie takie przybliżenie faktycznie jest lepsze. Można odtworzyć wykres z wykładu albo zainspirować się przykładowym artykułem https://www.hindawi.com/journals/ijcm/2014/587430/ \n"
   ]
  },
  {
   "cell_type": "code",
   "execution_count": null,
   "metadata": {},
   "outputs": [],
   "source": [
    "function f(x)\n",
    "    log(1+x)/x\n",
    "end\n",
    "\n",
    "t = Taylor1(Float64, 5)\n",
    "f_taylor = f(t) #rozwinięcie szeregu taylora\n",
    "f_taylor_approx = Polynomial(f_taylor.coeffs)\n",
    "f_pade = Polynomials.PolyCompat.PadeApproximation.Pade(f_taylor_approx, 2, 2)\n",
    "\n",
    "x = 0:0.1:10\n",
    "y_f = f.(x)\n",
    "y_taylor = f_taylor_approx.(x)\n",
    "y_pade = f_pade.(x)\n",
    "\n",
    "plot(\n",
    "    x,\n",
    "    [y_f, y_taylor, y_pade],\n",
    "    ylims=[0,2],\n",
    "    label = [\"Właściwa funkcja\" \"Przybliżenie Taylora\" \"Przybliżenie Pade\"]\n",
    ")"
   ]
  }
 ],
 "metadata": {
  "kernelspec": {
   "display_name": "Julia 1.8.5",
   "language": "julia",
   "name": "julia-1.8"
  },
  "language_info": {
   "file_extension": ".jl",
   "mimetype": "application/julia",
   "name": "julia",
   "version": "1.8.5"
  },
  "orig_nbformat": 4
 },
 "nbformat": 4,
 "nbformat_minor": 2
}
